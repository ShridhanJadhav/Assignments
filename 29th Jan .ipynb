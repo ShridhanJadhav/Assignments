{
 "cells": [
  {
   "cell_type": "code",
   "execution_count": 1,
   "id": "fa6e58c5-0f2f-4f04-8cb6-98b1378425f3",
   "metadata": {},
   "outputs": [],
   "source": [
    "# 29th jan python assignment\n"
   ]
  },
  {
   "cell_type": "code",
   "execution_count": 7,
   "id": "81680620-dbf1-4785-8623-60d02b591539",
   "metadata": {},
   "outputs": [
    {
     "ename": "SyntaxError",
     "evalue": "invalid syntax (2366372429.py, line 2)",
     "output_type": "error",
     "traceback": [
      "\u001b[0;36m  Cell \u001b[0;32mIn[7], line 2\u001b[0;36m\u001b[0m\n\u001b[0;31m    Ans:- Guido van Rossum\u001b[0m\n\u001b[0m                ^\u001b[0m\n\u001b[0;31mSyntaxError\u001b[0m\u001b[0;31m:\u001b[0m invalid syntax\n"
     ]
    }
   ],
   "source": [
    "Q1) who developed python  Programming language?\n",
    "Ans:- Guido van Rossum\n",
    "\n",
    "Q2) Which type of programming does python support?\n",
    "Ans:- Python support Object-oriented programming and structure programming.\n",
    "\n",
    "Q3) Is python case sensitive when dealing with identifiers?\n",
    "Ans:- Yes\n",
    "\n",
    "Q4) What is the correct extension of the python file?\n",
    "Ans:- The extensions for Python files are - . py, \n",
    "\n",
    "Q5) is python code complied or interpreted?\n",
    "Ans:- Python is an interpreted language\n",
    "\n",
    "Q6) Name a few blocks of code used to define in Python language?\n",
    "Ans:- a module, a function body, and a class definition. \n",
    "\n",
    "Q7) State a character used to give single line comments in python ? \n",
    "Ans:- '#' is used to give single line comments in python \n",
    "\n",
    "Q8) Mention function which can help us to find the version of python.\n",
    "Ans:- (a). Using sys.version method.\n",
    "       (b). Using python_version() function.\n",
    "       (c). Using Python-V command.\n",
    "        \n",
    "Q9) Python supports the creation of anonymous function at runtime, using a construct called ___________ \n",
    " Ans:- \"lambda\"\n",
    "    \n",
    "Q10) What does pip stand for python ? \n",
    " Ans:- pip stand for \" preferred installer program \" in python. \n",
    "    \n",
    "Q11) Mention a few built-in function in python ? \n",
    " Ans> These are some built-in functions in python:\n",
    "        print( ) function.\n",
    "        type( ) function.\n",
    "        input( ) function.\n",
    "        append( ) function.\n",
    "        extend( ) function.\n",
    "        count( ) function.\n",
    "        sorted( ) function.\n",
    "        max( ) function. \n",
    "        \n",
    "Q12) What is the maximum possible length of an identifier in python ? \n",
    " Ans:-  An identifier can have a maximum length of 79 characters in Python.\n",
    "    \n",
    "Q13) What are the benifits of using python ? \n",
    " Ans:- These are the benifits of using python\n",
    "      1) Easy to Learn and Use. ...\n",
    "      2) Mature and Supportive Python Community. ...\n",
    "      3) Support from Renowned Corporate Sponsors. ...\n",
    "      4) Hundreds of Python Libraries and Frameworks. ...\n",
    "      5) Versatility, Efficiency, Reliability, and Speed. ...\n",
    "      6) Big data, Machine Learning and Cloud Computing. ...\n",
    "      7) First-choice Language.\n",
    "        \n",
    "Q14) How is memory managed in python ?\n",
    " Ans:- Memory management in Python involves a private heap containing all Python objects and data structures.\n",
    "      The management of this private heap is ensured internally by the Python memory manager.\n",
    "        \n",
    "Q15) How to install python in windows and set path variables ?\n",
    " Ans:- Install python from this link https://www.python.org/downloads/\n",
    "      After this, install it on your PC. Look for the location where PYTHON has been installed on your PC\n",
    "      using tge following command on your command prompt: cmd python.\n",
    "      Then go to advanced system settings and add new variable and name it as PYTHON_NAME and paste the copied path.\n",
    "      Then look for the path variable, select it's value and select edit\n",
    "      Add a semicolon towards the end of the value if it's not present and then type %PYTHON_HOME%\n",
    "        \n",
    "Q.16) Is identation required in python ? \n",
    " Ans- Indentation refers to the spaces at the beginning of a code line.\n",
    "      Where in other programming languages the indentation in code is for readability only,\n",
    "      the indentation in Python is very important. Python uses indentation to indicate a block of code."
   ]
  },
  {
   "cell_type": "code",
   "execution_count": null,
   "id": "baad44e9-3e2a-46d4-9c28-132eb2daaff6",
   "metadata": {},
   "outputs": [],
   "source": []
  }
 ],
 "metadata": {
  "kernelspec": {
   "display_name": "Python 3 (ipykernel)",
   "language": "python",
   "name": "python3"
  },
  "language_info": {
   "codemirror_mode": {
    "name": "ipython",
    "version": 3
   },
   "file_extension": ".py",
   "mimetype": "text/x-python",
   "name": "python",
   "nbconvert_exporter": "python",
   "pygments_lexer": "ipython3",
   "version": "3.10.8"
  }
 },
 "nbformat": 4,
 "nbformat_minor": 5
}
